{
 "cells": [
  {
   "cell_type": "code",
   "execution_count": 3,
   "id": "bd8a1a29-90f7-48fe-8450-a5b16ef00226",
   "metadata": {},
   "outputs": [
    {
     "name": "stderr",
     "output_type": "stream",
     "text": [
      "WARNING:absl:Compiled the loaded model, but the compiled metrics have yet to be built. `model.compile_metrics` will be empty until you train or evaluate the model.\n"
     ]
    },
    {
     "name": "stdout",
     "output_type": "stream",
     "text": [
      "\u001b[1m1/1\u001b[0m \u001b[32m━━━━━━━━━━━━━━━━━━━━\u001b[0m\u001b[37m\u001b[0m \u001b[1m0s\u001b[0m 162ms/step\n",
      "Fire\n"
     ]
    }
   ],
   "source": [
    "from tensorflow.keras.models import load_model\n",
    "from tensorflow.keras.preprocessing.image import load_img, img_to_array\n",
    "import numpy as np\n",
    "\n",
    "# Load modelin e ruajtur\n",
    "model = load_model(\"fire_detection_model.h5\")\n",
    "\n",
    "# Parashikimi per nje imazh\n",
    "def predict_image(image_path):\n",
    "    img = load_img(image_path, target_size=(128, 128))  # Resize imazhet\n",
    "    img_array = img_to_array(img) / 255.0              # Normalizimi i vlerave pixel\n",
    "    img_array = np.expand_dims(img_array, axis=0)      # Shtojme dimensionin e grupit\n",
    "    prediction = model.predict(img_array)\n",
    "    return \"Fire\" if prediction[0] > 0.5 else \"Non-Fire\"\n",
    "\n",
    "print(predict_image(\"C:/Users/AG/Documents/1/images.jpg\"))\n"
   ]
  }
 ],
 "metadata": {
  "kernelspec": {
   "display_name": "Python 3 (ipykernel)",
   "language": "python",
   "name": "python3"
  },
  "language_info": {
   "codemirror_mode": {
    "name": "ipython",
    "version": 3
   },
   "file_extension": ".py",
   "mimetype": "text/x-python",
   "name": "python",
   "nbconvert_exporter": "python",
   "pygments_lexer": "ipython3",
   "version": "3.11.7"
  }
 },
 "nbformat": 4,
 "nbformat_minor": 5
}
